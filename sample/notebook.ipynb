{
 "cells": [
  {
   "cell_type": "code",
   "execution_count": 1,
   "id": "d0afa771",
   "metadata": {},
   "outputs": [],
   "source": [
    "import sys\n",
    "import os\n",
    "import pandas as pd\n",
    "\n",
    "# Add the module's directory to sys.path\n",
    "sys.path.append(os.path.abspath(os.path.join(os.getcwd(), \"..\")))\n",
    "\n",
    "from gimi9_geocoder.client import GeocoderClient\n"
   ]
  },
  {
   "cell_type": "code",
   "execution_count": 2,
   "id": "9ab8ff84",
   "metadata": {},
   "outputs": [],
   "source": [
    "geocoder = GeocoderClient(\n",
    "    token=\"9b4c40c8f5c935ca6524c2ec18aa7c49f4c3b6cb\"\n",
    ")  # 프로회원\n",
    "# geocoder = GeocoderClient(token=\"DEMO_TOKEN\")\n",
    "\n",
    "data = {\n",
    "    \"address\": [\n",
    "        \"서울특별시 강남구 테헤란로 123\",\n",
    "        \"부산광역시 해운대구 해운대해변로 456\",\n",
    "        \"대구광역시 중구 동성로 789\",\n",
    "    ]\n",
    "}"
   ]
  },
  {
   "cell_type": "code",
   "execution_count": 3,
   "id": "e1eed4bc",
   "metadata": {},
   "outputs": [
    {
     "data": {
      "application/vnd.microsoft.datawrangler.viewer.v0+json": {
       "columns": [
        {
         "name": "index",
         "rawType": "int64",
         "type": "integer"
        },
        {
         "name": "address",
         "rawType": "object",
         "type": "string"
        },
        {
         "name": "z",
         "rawType": "object",
         "type": "unknown"
        },
        {
         "name": "h23_cd",
         "rawType": "object",
         "type": "string"
        },
        {
         "name": "hd_cd",
         "rawType": "object",
         "type": "string"
        },
        {
         "name": "bld_mgt_no",
         "rawType": "object",
         "type": "unknown"
        },
        {
         "name": "h1_nm",
         "rawType": "object",
         "type": "string"
        },
        {
         "name": "h23_nm",
         "rawType": "object",
         "type": "string"
        },
        {
         "name": "hd_nm",
         "rawType": "object",
         "type": "string"
        },
        {
         "name": "success",
         "rawType": "bool",
         "type": "boolean"
        },
        {
         "name": "errmsg",
         "rawType": "object",
         "type": "string"
        },
        {
         "name": "pos_cd",
         "rawType": "object",
         "type": "string"
        },
        {
         "name": "addressCls",
         "rawType": "object",
         "type": "string"
        },
        {
         "name": "h1_cd",
         "rawType": "object",
         "type": "string"
        },
        {
         "name": "kostat_h1_cd",
         "rawType": "object",
         "type": "string"
        },
        {
         "name": "kostat_h2_cd",
         "rawType": "object",
         "type": "string"
        },
        {
         "name": "bn",
         "rawType": "object",
         "type": "string"
        },
        {
         "name": "rm",
         "rawType": "object",
         "type": "string"
        },
        {
         "name": "x_axis",
         "rawType": "float64",
         "type": "float"
        },
        {
         "name": "y_axis",
         "rawType": "float64",
         "type": "float"
        }
       ],
       "ref": "1e930284-e3a7-4db3-b23d-f7f0379d34b8",
       "rows": [
        [
         "0",
         "서울특별시 강남구 테헤란로 123",
         "06133",
         "11680",
         "1168064000",
         "1168010100106480024023791",
         "서울",
         "강남구",
         "역삼1동",
         "True",
         "",
         "도로명 주소",
         "ROAD_ADDRESS",
         "11",
         "11",
         "11230",
         "1168010100106480024023791",
         "테헤란로",
         "127.03138824018204",
         "37.49954536322957"
        ],
        [
         "1",
         "부산광역시 해운대구 해운대해변로 456",
         null,
         "26350",
         "2635052500",
         null,
         "부산",
         "해운대",
         "우제3동",
         "True",
         "도로명 대표주소: 해운대해변로",
         "길이름 대표주소",
         "ROAD_END_ADDRESS",
         "26",
         "21",
         "21090",
         "",
         "해운대해변로",
         "129.16693634481257",
         "35.1649977160205"
        ],
        [
         "2",
         "대구광역시 중구 동성로 789",
         null,
         "27110",
         "2711056500",
         null,
         "대구",
         "중",
         "성내1동",
         "True",
         "도로명 대표주소: 동성로",
         "길이름 대표주소",
         "ROAD_END_ADDRESS",
         "27",
         "22",
         "22010",
         "",
         "동성로",
         "128.59650066385532",
         "35.87389708638814"
        ]
       ],
       "shape": {
        "columns": 19,
        "rows": 3
       }
      },
      "text/html": [
       "<div>\n",
       "<style scoped>\n",
       "    .dataframe tbody tr th:only-of-type {\n",
       "        vertical-align: middle;\n",
       "    }\n",
       "\n",
       "    .dataframe tbody tr th {\n",
       "        vertical-align: top;\n",
       "    }\n",
       "\n",
       "    .dataframe thead th {\n",
       "        text-align: right;\n",
       "    }\n",
       "</style>\n",
       "<table border=\"1\" class=\"dataframe\">\n",
       "  <thead>\n",
       "    <tr style=\"text-align: right;\">\n",
       "      <th></th>\n",
       "      <th>address</th>\n",
       "      <th>z</th>\n",
       "      <th>h23_cd</th>\n",
       "      <th>hd_cd</th>\n",
       "      <th>bld_mgt_no</th>\n",
       "      <th>h1_nm</th>\n",
       "      <th>h23_nm</th>\n",
       "      <th>hd_nm</th>\n",
       "      <th>success</th>\n",
       "      <th>errmsg</th>\n",
       "      <th>pos_cd</th>\n",
       "      <th>addressCls</th>\n",
       "      <th>h1_cd</th>\n",
       "      <th>kostat_h1_cd</th>\n",
       "      <th>kostat_h2_cd</th>\n",
       "      <th>bn</th>\n",
       "      <th>rm</th>\n",
       "      <th>x_axis</th>\n",
       "      <th>y_axis</th>\n",
       "    </tr>\n",
       "  </thead>\n",
       "  <tbody>\n",
       "    <tr>\n",
       "      <th>0</th>\n",
       "      <td>서울특별시 강남구 테헤란로 123</td>\n",
       "      <td>06133</td>\n",
       "      <td>11680</td>\n",
       "      <td>1168064000</td>\n",
       "      <td>1168010100106480024023791</td>\n",
       "      <td>서울</td>\n",
       "      <td>강남구</td>\n",
       "      <td>역삼1동</td>\n",
       "      <td>True</td>\n",
       "      <td></td>\n",
       "      <td>도로명 주소</td>\n",
       "      <td>ROAD_ADDRESS</td>\n",
       "      <td>11</td>\n",
       "      <td>11</td>\n",
       "      <td>11230</td>\n",
       "      <td>1168010100106480024023791</td>\n",
       "      <td>테헤란로</td>\n",
       "      <td>127.031388</td>\n",
       "      <td>37.499545</td>\n",
       "    </tr>\n",
       "    <tr>\n",
       "      <th>1</th>\n",
       "      <td>부산광역시 해운대구 해운대해변로 456</td>\n",
       "      <td>NaN</td>\n",
       "      <td>26350</td>\n",
       "      <td>2635052500</td>\n",
       "      <td>NaN</td>\n",
       "      <td>부산</td>\n",
       "      <td>해운대</td>\n",
       "      <td>우제3동</td>\n",
       "      <td>True</td>\n",
       "      <td>도로명 대표주소: 해운대해변로</td>\n",
       "      <td>길이름 대표주소</td>\n",
       "      <td>ROAD_END_ADDRESS</td>\n",
       "      <td>26</td>\n",
       "      <td>21</td>\n",
       "      <td>21090</td>\n",
       "      <td></td>\n",
       "      <td>해운대해변로</td>\n",
       "      <td>129.166936</td>\n",
       "      <td>35.164998</td>\n",
       "    </tr>\n",
       "    <tr>\n",
       "      <th>2</th>\n",
       "      <td>대구광역시 중구 동성로 789</td>\n",
       "      <td>NaN</td>\n",
       "      <td>27110</td>\n",
       "      <td>2711056500</td>\n",
       "      <td>NaN</td>\n",
       "      <td>대구</td>\n",
       "      <td>중</td>\n",
       "      <td>성내1동</td>\n",
       "      <td>True</td>\n",
       "      <td>도로명 대표주소: 동성로</td>\n",
       "      <td>길이름 대표주소</td>\n",
       "      <td>ROAD_END_ADDRESS</td>\n",
       "      <td>27</td>\n",
       "      <td>22</td>\n",
       "      <td>22010</td>\n",
       "      <td></td>\n",
       "      <td>동성로</td>\n",
       "      <td>128.596501</td>\n",
       "      <td>35.873897</td>\n",
       "    </tr>\n",
       "  </tbody>\n",
       "</table>\n",
       "</div>"
      ],
      "text/plain": [
       "                 address      z h23_cd       hd_cd                 bld_mgt_no  \\\n",
       "0     서울특별시 강남구 테헤란로 123  06133  11680  1168064000  1168010100106480024023791   \n",
       "1  부산광역시 해운대구 해운대해변로 456    NaN  26350  2635052500                        NaN   \n",
       "2       대구광역시 중구 동성로 789    NaN  27110  2711056500                        NaN   \n",
       "\n",
       "  h1_nm h23_nm hd_nm  success            errmsg    pos_cd        addressCls  \\\n",
       "0    서울    강남구  역삼1동     True                      도로명 주소      ROAD_ADDRESS   \n",
       "1    부산    해운대  우제3동     True  도로명 대표주소: 해운대해변로  길이름 대표주소  ROAD_END_ADDRESS   \n",
       "2    대구      중  성내1동     True     도로명 대표주소: 동성로  길이름 대표주소  ROAD_END_ADDRESS   \n",
       "\n",
       "  h1_cd kostat_h1_cd kostat_h2_cd                         bn      rm  \\\n",
       "0    11           11        11230  1168010100106480024023791    테헤란로   \n",
       "1    26           21        21090                             해운대해변로   \n",
       "2    27           22        22010                                동성로   \n",
       "\n",
       "       x_axis     y_axis  \n",
       "0  127.031388  37.499545  \n",
       "1  129.166936  35.164998  \n",
       "2  128.596501  35.873897  "
      ]
     },
     "execution_count": 3,
     "metadata": {},
     "output_type": "execute_result"
    }
   ],
   "source": [
    "df = pd.DataFrame(data)\n",
    "\n",
    "# 주소를 좌표로 변환 (지오코딩)\n",
    "df = geocoder.geocode(df, \"address\")\n",
    "\n",
    "df"
   ]
  },
  {
   "cell_type": "code",
   "execution_count": 4,
   "id": "f0165da7",
   "metadata": {},
   "outputs": [
    {
     "data": {
      "application/vnd.microsoft.datawrangler.viewer.v0+json": {
       "columns": [
        {
         "name": "index",
         "rawType": "int64",
         "type": "integer"
        },
        {
         "name": "x",
         "rawType": "float64",
         "type": "float"
        },
        {
         "name": "y",
         "rawType": "float64",
         "type": "float"
        },
        {
         "name": "ADR_MNG_NO",
         "rawType": "object",
         "type": "unknown"
        },
        {
         "name": "address_road",
         "rawType": "object",
         "type": "unknown"
        },
        {
         "name": "geom_road",
         "rawType": "object",
         "type": "unknown"
        },
        {
         "name": "yyyymm_road",
         "rawType": "object",
         "type": "unknown"
        },
        {
         "name": "PNU",
         "rawType": "object",
         "type": "string"
        },
        {
         "name": "address_jibun",
         "rawType": "object",
         "type": "string"
        },
        {
         "name": "geom_jibun",
         "rawType": "object",
         "type": "string"
        },
        {
         "name": "yyyymm_jibun",
         "rawType": "object",
         "type": "string"
        }
       ],
       "ref": "b52ef078-8e76-4f76-a453-c53aaff6d191",
       "rows": [
        [
         "0",
         "127.03138824018204",
         "37.49954536322957",
         "11680101312201000012300000",
         "서울특별시 강남구 테헤란로 123",
         "POLYGON ((127.031602 37.499508, 127.031281 37.499407, 127.031186 37.499601, 127.031505 37.499700, 127.031602 37.499508))",
         "202404",
         "1168010100106480024",
         "서울특별시 강남구 역삼동 648-24번지",
         "POLYGON ((127.031221 37.499646, 127.031354 37.499687, 127.031498 37.499391, 127.031364 37.499350, 127.031221 37.499646))",
         "202404"
        ],
        [
         "1",
         "129.16693634481257",
         "35.1649977160205",
         null,
         null,
         null,
         null,
         "2635010600112420002",
         "부산광역시 해운대구 중동 1242-2번지",
         "POLYGON ((129.166642 35.165480, 129.166649 35.165471, 129.166838 35.165213, 129.166994 35.165007, 129.167042 35.164944, 129.167162 35.164787, 129.167291 35.164607, 129.167403 35.164437, 129.167449 35.164370, 129.167509 35.164282, 129.167563 35.164204, 129.167658 35.164066, 129.167672 35.164047, 129.167682 35.164032, 129.167847 35.163792, 129.167860 35.163772, 129.167901 35.163706, 129.167908 35.163695, 129.167865 35.163674, 129.167822 35.163653, 129.167796 35.163641, 129.167806 35.163679, 129.167764 35.163746, 129.167755 35.163760, 129.167595 35.163998, 129.167581 35.164017, 129.167560 35.164045, 129.167511 35.164118, 129.167476 35.164169, 129.167448 35.164213, 129.167440 35.164226, 129.167397 35.164289, 129.167359 35.164344, 129.167315 35.164408, 129.167152 35.164640, 129.166975 35.164882, 129.166951 35.164917, 129.166828 35.165085, 129.166618 35.165364, 129.166564 35.165377, 129.166386 35.165293, 129.166278 35.165239, 129.166277 35.165261, 129.166247 35.165262, 129.166203 35.165245, 129.166185 35.165270, 129.166358 35.165350, 129.166527 35.165428, 129.166542 35.165476, 129.166539 35.165480, 129.166437 35.165604, 129.166419 35.165618, 129.166397 35.165636, 129.166283 35.165722, 129.165975 35.165951, 129.165946 35.165973, 129.165868 35.166029, 129.165720 35.166118, 129.165645 35.166159, 129.165587 35.166185, 129.165489 35.166193, 129.165735 35.166219, 129.165896 35.166102, 129.165998 35.166029, 129.166027 35.166008, 129.166408 35.165722, 129.166470 35.165677, 129.166492 35.165659, 129.166517 35.165639, 129.166642 35.165480))",
         "202404"
        ],
        [
         "2",
         "128.59650066385532",
         "35.87389708638814",
         null,
         null,
         null,
         null,
         "2711012600100050006",
         "대구광역시 중구 용덕동 5-6번지",
         "POLYGON ((128.596560 35.874056, 128.596586 35.874048, 128.596582 35.874022, 128.596566 35.873888, 128.596496 35.873894, 128.596515 35.874032, 128.596548 35.874024, 128.596560 35.874056))",
         "202404"
        ]
       ],
       "shape": {
        "columns": 10,
        "rows": 3
       }
      },
      "text/html": [
       "<div>\n",
       "<style scoped>\n",
       "    .dataframe tbody tr th:only-of-type {\n",
       "        vertical-align: middle;\n",
       "    }\n",
       "\n",
       "    .dataframe tbody tr th {\n",
       "        vertical-align: top;\n",
       "    }\n",
       "\n",
       "    .dataframe thead th {\n",
       "        text-align: right;\n",
       "    }\n",
       "</style>\n",
       "<table border=\"1\" class=\"dataframe\">\n",
       "  <thead>\n",
       "    <tr style=\"text-align: right;\">\n",
       "      <th></th>\n",
       "      <th>x</th>\n",
       "      <th>y</th>\n",
       "      <th>ADR_MNG_NO</th>\n",
       "      <th>address_road</th>\n",
       "      <th>geom_road</th>\n",
       "      <th>yyyymm_road</th>\n",
       "      <th>PNU</th>\n",
       "      <th>address_jibun</th>\n",
       "      <th>geom_jibun</th>\n",
       "      <th>yyyymm_jibun</th>\n",
       "    </tr>\n",
       "  </thead>\n",
       "  <tbody>\n",
       "    <tr>\n",
       "      <th>0</th>\n",
       "      <td>127.031388</td>\n",
       "      <td>37.499545</td>\n",
       "      <td>11680101312201000012300000</td>\n",
       "      <td>서울특별시 강남구 테헤란로 123</td>\n",
       "      <td>POLYGON ((127.031602 37.499508, 127.031281 37....</td>\n",
       "      <td>202404</td>\n",
       "      <td>1168010100106480024</td>\n",
       "      <td>서울특별시 강남구 역삼동 648-24번지</td>\n",
       "      <td>POLYGON ((127.031221 37.499646, 127.031354 37....</td>\n",
       "      <td>202404</td>\n",
       "    </tr>\n",
       "    <tr>\n",
       "      <th>1</th>\n",
       "      <td>129.166936</td>\n",
       "      <td>35.164998</td>\n",
       "      <td>None</td>\n",
       "      <td>None</td>\n",
       "      <td>None</td>\n",
       "      <td>None</td>\n",
       "      <td>2635010600112420002</td>\n",
       "      <td>부산광역시 해운대구 중동 1242-2번지</td>\n",
       "      <td>POLYGON ((129.166642 35.165480, 129.166649 35....</td>\n",
       "      <td>202404</td>\n",
       "    </tr>\n",
       "    <tr>\n",
       "      <th>2</th>\n",
       "      <td>128.596501</td>\n",
       "      <td>35.873897</td>\n",
       "      <td>None</td>\n",
       "      <td>None</td>\n",
       "      <td>None</td>\n",
       "      <td>None</td>\n",
       "      <td>2711012600100050006</td>\n",
       "      <td>대구광역시 중구 용덕동 5-6번지</td>\n",
       "      <td>POLYGON ((128.596560 35.874056, 128.596586 35....</td>\n",
       "      <td>202404</td>\n",
       "    </tr>\n",
       "  </tbody>\n",
       "</table>\n",
       "</div>"
      ],
      "text/plain": [
       "            x          y                  ADR_MNG_NO        address_road  \\\n",
       "0  127.031388  37.499545  11680101312201000012300000  서울특별시 강남구 테헤란로 123   \n",
       "1  129.166936  35.164998                        None                None   \n",
       "2  128.596501  35.873897                        None                None   \n",
       "\n",
       "                                           geom_road yyyymm_road  \\\n",
       "0  POLYGON ((127.031602 37.499508, 127.031281 37....      202404   \n",
       "1                                               None        None   \n",
       "2                                               None        None   \n",
       "\n",
       "                   PNU           address_jibun  \\\n",
       "0  1168010100106480024  서울특별시 강남구 역삼동 648-24번지   \n",
       "1  2635010600112420002  부산광역시 해운대구 중동 1242-2번지   \n",
       "2  2711012600100050006      대구광역시 중구 용덕동 5-6번지   \n",
       "\n",
       "                                          geom_jibun yyyymm_jibun  \n",
       "0  POLYGON ((127.031221 37.499646, 127.031354 37....       202404  \n",
       "1  POLYGON ((129.166642 35.165480, 129.166649 35....       202404  \n",
       "2  POLYGON ((128.596560 35.874056, 128.596586 35....       202404  "
      ]
     },
     "execution_count": 4,
     "metadata": {},
     "output_type": "execute_result"
    }
   ],
   "source": [
    "data_xy = {\"x\": df[\"x_axis\"], \"y\": df[\"y_axis\"]}\n",
    "df_xy = pd.DataFrame(data_xy)\n",
    "# 좌표를 주소로 변환 (역지오코딩)\n",
    "df_reversed = geocoder.reverse_geocode(x_col=\"x\", y_col=\"y\", coordinates=df_xy)\n",
    "\n",
    "df_reversed\n",
    "\n"
   ]
  }
 ],
 "metadata": {
  "kernelspec": {
   "display_name": "gimi9_geocoder",
   "language": "python",
   "name": "python3"
  },
  "language_info": {
   "codemirror_mode": {
    "name": "ipython",
    "version": 3
   },
   "file_extension": ".py",
   "mimetype": "text/x-python",
   "name": "python",
   "nbconvert_exporter": "python",
   "pygments_lexer": "ipython3",
   "version": "3.12.3"
  }
 },
 "nbformat": 4,
 "nbformat_minor": 5
}
